{
 "cells": [
  {
   "cell_type": "markdown",
   "metadata": {},
   "source": [
    "# **Introduction to Visualization**\n",
    "## Connecticut Sports Analytics Symposium 2025\n",
    "\n",
    "Date: April 11, 2025 \n",
    "\n",
    "Time: 3:40 - 4:50 \n",
    "\n",
    "Workshop Leader: Rahul Manna\n",
    "\n",
    "\n",
    "\n",
    "We will be using `matplotlib`in this workshop to create visualizations."
   ]
  },
  {
   "cell_type": "markdown",
   "metadata": {},
   "source": [
    "### **Installation**"
   ]
  },
  {
   "cell_type": "code",
   "execution_count": null,
   "metadata": {},
   "outputs": [],
   "source": [
    "! pip install matplotlib"
   ]
  },
  {
   "cell_type": "code",
   "execution_count": null,
   "metadata": {},
   "outputs": [],
   "source": [
    "! pip install pandas nba_api numpy==2.2.4 pybaseball"
   ]
  },
  {
   "cell_type": "markdown",
   "metadata": {},
   "source": [
    "### **Importing Packges**"
   ]
  },
  {
   "cell_type": "code",
   "execution_count": null,
   "metadata": {},
   "outputs": [],
   "source": [
    "import matplotlib.pyplot as plt\n",
    "import numpy as np\n",
    "import pybaseball as pyball"
   ]
  },
  {
   "cell_type": "markdown",
   "metadata": {
    "slideshow": {
     "slide_type": "slide"
    }
   },
   "source": [
    "## **Matplotlib Commands**\n",
    "\n",
    "<center><img src=\"https://raw.githubusercontent.com/ram200010/CSAS_2025_Data_Visualization/refs/heads/main/images/anatomy.webp\" width=500></center>\n",
    "\n",
    "### Basic Plotting Commands\n",
    "\n",
    "\n",
    "- **Line plot →** `plt.plot(x, y, color , linestyle, marker, label, alpha, linewidth)`  \n",
    "- **Scatter plot →** `plt.scatter(x, y, marker, s (marker size), c (marker color), alpha)`  \n",
    "- **Bar plot →** `plt.bar(x, y, height, width, color, align)`  \n",
    "- **Histogram →** `plt.hist(data, bins=10, bins, range, density, color, alpha)`\n",
    "- **Pie chart →** `plt.pie(sizes, labels=labels, sizes, labels, colors, startangle, autopct)`\n",
    "- **Fill area →** `plt.fill_between(x, y1, y2, color, alpha)`\n",
    "\n",
    "#### **Table 1: Common Matplotlib Markers and Linestyles**\n",
    "\n",
    "| Marker | Description | Line Style | Description |\n",
    "|--------|------------|------------|-------------|\n",
    "| `.`    | Point      | `-`        | Solid       |\n",
    "| `o`    | Circle     | `--`       | Dashed      |\n",
    "| `v`    | Triangle Down | `-.`   | Dash-dot    |\n",
    "| `^`    | Triangle Up | `:`      | Dotted      |\n",
    "| `<`    | Triangle Left | None  | No line     |\n",
    "| `>`    | Triangle Right |  | |\n",
    "| `s`    | Square     |  | |\n",
    "| `p`    | Pentagon   |  | |\n",
    "| `*`    | Star       |  | |\n",
    "| `+`    | Plus       |  | |\n",
    "| `x`    | Cross      |  | |\n",
    "| `D`    | Diamond    |  | |\n",
    "| `h`    | Hexagon1   |  | |\n",
    "| `H`    | Hexagon2   |  | |\n",
    "\n",
    "[More Linestyles](https://matplotlib.org/stable/gallery/lines_bars_and_markers/linestyles.html) \n",
    "\n",
    "[More Markers](https://matplotlib.org/stable/api/markers_api.html)\n",
    "### **Customization Commands**\n",
    "\n",
    "- **Axis labels →** `plt.xlabel(\"X-axis Label\", label, fontsize, color)`, `plt.ylabel(\"Y-axis Label\", label, fontsize, color)`\n",
    "- **Title →** `plt.title(\"Plot Title\", left, right, bottom, top)`\n",
    "- **Axis limits →** `plt.xlim(min, max, left, right)`, `plt.ylim(min, max, bottom, top)`\n",
    "- **Custom tick labels →** `plt.xticks(ticks, labels)`, `plt.yticks(ticks, labels, ticks, labels)`\n",
    "- **Add grid →** `plt.grid(True, linestyle='--', linewidth)`\n",
    "- **Add legend →** `plt.legend(loc, fontsize, title, frameon, bbox_to_anchor)`\n",
    "- **Add colorbar →** `plt.colorbar(label, orientation, shrink, aspect, pad)`\n",
    "\n",
    "\n",
    "### **Multiple Plots & Subplots**\n",
    "\n",
    "- **New figure →** `plt.figure(figsize=(width, height))`\n",
    "- **Create subplots →** `plt.subplot(rows, cols, index)`\n",
    "- **Object-oriented subplot approach →** `fig, ax = plt.subplots(nrows, ncols, figsize, sharex, sharey)`\n",
    "- **Plot using axes →** `ax.plot(x, y)`\n",
    "\n",
    "### **Saving & Displaying Plots**\n",
    "\n",
    "- **Save figure →** `plt.savefig(\"plot.png\", filename, dpi, format)`\n",
    "- **Display plot →** `plt.show()`\n",
    "- **Close figure →** `plt.close()`\n"
   ]
  },
  {
   "cell_type": "markdown",
   "metadata": {},
   "source": [
    "## Example 1: Standard Normal Distribution\n",
    "\n",
    "Let's plot the standard normal distribution $N(\\mu=1,\\sigma=1)$ pdf given below. \n",
    "\n",
    "$$ f(x) = \\frac{1}{\\sigma\\sqrt{2\\pi}}e^{\\frac{-(x-\\mu)^2}{2\\sigma^2}} = \\frac{1}{\\sqrt{2\\pi}}e^{\\frac{-x^2}{2}}$$\n",
    "\n",
    "\n",
    "<center><img src=\"https://raw.githubusercontent.com/ram200010/CSAS_2025_Data_Visualization/refs/heads/main/images/stand_norm_distribution.png\" width=500></center>\n",
    "\n",
    "\n",
    "\n"
   ]
  },
  {
   "cell_type": "markdown",
   "metadata": {},
   "source": [
    "### Creating Function and Variables"
   ]
  },
  {
   "cell_type": "code",
   "execution_count": null,
   "metadata": {},
   "outputs": [],
   "source": [
    "def stand_norm(z):\n",
    "    return 1/np.sqrt(2*np.pi)*np.exp(-z**2/2)\n",
    "\n",
    "z = np.linspace(-4,4,1000) # range of x values in plot\n",
    "\n",
    "f = stand_norm(z)\n",
    "print(f)"
   ]
  },
  {
   "cell_type": "markdown",
   "metadata": {},
   "source": [
    "### Plotting a Fuction\n",
    "\n",
    "- **Line plot →** `plt.plot(x, y, color , linestyle, marker, label, alpha, linewidth)`  \n",
    "- **Axis labels →** `plt.xlabel(\"X-axis Label\", label, fontsize, color)`, `plt.ylabel(\"Y-axis Label\", label, fontsize, color)`\n",
    "- **Title →** `plt.title(\"Plot Title\", left, right, bottom, top)`\n",
    "- **Add legend →** `plt.legend(loc, fontsize, title, frameon, bbox_to_anchor)`\n",
    "- **Display plot →** `plt.show()`"
   ]
  },
  {
   "cell_type": "code",
   "execution_count": null,
   "metadata": {},
   "outputs": [],
   "source": []
  },
  {
   "cell_type": "markdown",
   "metadata": {},
   "source": [
    "### Coloring an Area and Saving a Figure\n",
    "\n",
    "- **Fill area →** `plt.fill_between(x, y1, y2, color, alpha)`\n",
    "- **Save figure →** `plt.savefig(\"plot.png\", filename, dpi)`\n",
    "\n"
   ]
  },
  {
   "cell_type": "code",
   "execution_count": null,
   "metadata": {},
   "outputs": [],
   "source": [
    "z1 = np.linspace(1,4,1000)\n",
    "f1 = stand_norm(z1)\n",
    "\n"
   ]
  },
  {
   "cell_type": "markdown",
   "metadata": {},
   "source": [
    "## Example 2: Ball Position Over Home Plate\n",
    "\n"
   ]
  },
  {
   "cell_type": "markdown",
   "metadata": {},
   "source": [
    "<center><img src=\"https://www.andschneider.dev/images/mlb-gameday-1.png\"><center>\n"
   ]
  },
  {
   "cell_type": "markdown",
   "metadata": {},
   "source": [
    "### Getting Baseball data"
   ]
  },
  {
   "cell_type": "code",
   "execution_count": null,
   "metadata": {},
   "outputs": [],
   "source": [
    "judge_data = pyball.statcast_batter(start_dt='2024-03-28',end_dt='2024-09-29',player_id=592450)\n",
    "platex = judge_data['plate_x']\n",
    "platey = judge_data['plate_z']\n",
    "judge_data.head()"
   ]
  },
  {
   "cell_type": "markdown",
   "metadata": {},
   "source": [
    "### **Scatter Plot of Hit Locations**\n",
    "\n",
    "<center><img src=\"https://raw.githubusercontent.com/ram200010/CSAS_2025_Data_Visualization/refs/heads/main/images/aaron_judge_scatter.png\" width=500></center>\n",
    "\n",
    "\n",
    "- **Scatter plot →** `plt.scatter(x, y, marker, s (marker size), c (marker color), alpha)`  \n",
    "- **Axis labels →** `plt.xlabel(\"X-axis Label\", label, fontsize, color)`, `plt.ylabel(\"Y-axis Label\", label, fontsize, color)`\n",
    "- **Title →** `plt.title(\"Plot Title\", left, right, bottom, top)`\n",
    "- **Display plot →** `plt.show()`"
   ]
  },
  {
   "cell_type": "code",
   "execution_count": null,
   "metadata": {},
   "outputs": [],
   "source": []
  },
  {
   "cell_type": "markdown",
   "metadata": {},
   "source": [
    "### **Histogram of Aaron Judge's Exit Velocity**\n",
    "\n",
    "- **Histogram →** `plt.hist(data, bins=10, bins, range, density, color, alpha)`\n",
    "- **Axis labels →** `plt.xlabel(\"X-axis Label\", label, fontsize, color)`, `plt.ylabel(\"Y-axis Label\", label, fontsize, color)`\n",
    "- **Title →** `plt.title(\"Plot Title\", left, right, bottom, top)`\n",
    "- **Display plot →** `plt.show()`"
   ]
  },
  {
   "cell_type": "code",
   "execution_count": null,
   "metadata": {},
   "outputs": [],
   "source": []
  },
  {
   "cell_type": "markdown",
   "metadata": {},
   "source": [
    "### **Scatter Plot of Hit Locations Colored by Exit Velocty**\n",
    "\n",
    "<center><img src=\"https://raw.githubusercontent.com/ram200010/CSAS_2025_Data_Visualization/refs/heads/main/images/aaron_judge_scatter_exit_velocity.png\" width=500></center>\n",
    "\n",
    "- **Scatter plot →** `plt.scatter(x, y, marker, s (marker size), c (marker color), alpha)`\n",
    "- **Add colorbar →** `plt.colorbar(label)`\n",
    "- **Axis labels →** `plt.xlabel(\"X-axis Label\", label, fontsize, color)`, `plt.ylabel(\"Y-axis Label\", label, fontsize, color)`\n",
    "- **Title →** `plt.title(\"Plot Title\", left, right, bottom, top)`\n",
    "- **Display plot →** `plt.show()`\n",
    "\n",
    "#### Available Colormaps\n",
    "\n",
    "| Colormap Name  | Description                  | Type      |\n",
    "|---------------|------------------------------|----------|\n",
    "| viridis       | Perceptually uniform, good for general use | Sequential |\n",
    "| plasma        | High contrast, perceptually uniform | Sequential |\n",
    "| inferno       | Dark-to-light, good for visibility | Sequential |\n",
    "| magma         | Dark purple to yellow gradient | Sequential |\n",
    "| coolwarm      | Diverging colormap from blue to red | Diverging |\n",
    "\n",
    "[More Colormaps](https://matplotlib.org/stable/users/explain/colors/colormaps.html)"
   ]
  },
  {
   "cell_type": "code",
   "execution_count": null,
   "metadata": {},
   "outputs": [],
   "source": [
    "\n"
   ]
  },
  {
   "cell_type": "markdown",
   "metadata": {},
   "source": [
    "### Scatter Plot of Hit Locations by Zone\n",
    "\n",
    "<center><img src=\"https://raw.githubusercontent.com/ram200010/CSAS_2025_Data_Visualization/refs/heads/main/images/baseball_zones.png\" width=300><center/>\n",
    "\n",
    "<center><img src=\"https://raw.githubusercontent.com/ram200010/CSAS_2025_Data_Visualization/refs/heads/main/images/aaron_judge_scatter_zones.png\" width=500><center/>"
   ]
  },
  {
   "cell_type": "code",
   "execution_count": null,
   "metadata": {},
   "outputs": [],
   "source": [
    "judge_data['in_zone'] = judge_data['zone'].apply(lambda x: f'Zone: {str(int(x))}' if x in range(0,10) else 'Out of Zone')\n",
    "\n",
    "plt.figure(figsize=(9,7))\n",
    "\n",
    "for category, group in judge_data.groupby('in_zone'):\n",
    "    \"plt.scatter goes here\"\n",
    "\n"
   ]
  },
  {
   "cell_type": "markdown",
   "metadata": {},
   "source": [
    "## Example 3: Array of Plots: Bar Chart of Top NBA Teams Win Percentages\n",
    "\n",
    "<center><img src=\"https://raw.githubusercontent.com/ram200010/CSAS_2025_Data_Visualization/refs/heads/main/images/bar_chart_example.png\" width=700></center>\n",
    "\n",
    "\n",
    "- **Scatter plot →** `plt.scatter(x, y, marker, s (marker size), c (marker color), alpha)`  \n",
    "- **Axis labels →** `plt.xlabel(\"X-axis Label\", label, fontsize, color)`, `plt.ylabel(\"Y-axis Label\", label, fontsize, color)`\n",
    "- **Title →** `plt.title(\"Plot Title\", left, right, bottom, top)`\n",
    "- **Display plot →** `plt.show()`"
   ]
  },
  {
   "cell_type": "markdown",
   "metadata": {},
   "source": [
    "### Getting Basketball Data"
   ]
  },
  {
   "cell_type": "code",
   "execution_count": null,
   "metadata": {},
   "outputs": [],
   "source": [
    "from nba_api.stats.endpoints import LeagueStandings\n",
    "\n",
    "# Fetch data for each season\n",
    "data_2023 = LeagueStandings(season='2022-23').get_data_frames()[0]\n",
    "data_2024 = LeagueStandings(season='2023-24').get_data_frames()[0]\n",
    "\n",
    "# Compute win percentages\n",
    "data_2023['WinPct'] = data_2023['WINS'] / (data_2023['WINS'] + data_2023['LOSSES'])\n",
    "data_2024['WinPct'] = data_2024['WINS'] / (data_2024['WINS'] + data_2024['LOSSES'])\n",
    "\n",
    "# Get top 5 teams for each season\n",
    "top_2023 = data_2023.nlargest(5, 'WinPct')[['TeamName','TeamID','WINS','LOSSES','WinPct']]\n",
    "top_2024 = data_2024.nlargest(5, 'WinPct')[['TeamName','TeamID','WINS','LOSSES','WinPct']]\n",
    "\n",
    "print('2022-23 Season','\\n',top_2023.head(),'\\n')\n",
    "print('2024-25 Season','\\n',top_2024.head())"
   ]
  },
  {
   "cell_type": "markdown",
   "metadata": {},
   "source": [
    "### Single Bar Chart\n",
    "\n",
    "- **Bar plot →** `plt.bar(x, y, height, width, color, align)`\n",
    "- **Axis labels →** `plt.xlabel(\"X-axis Label\", label, fontsize, color)`, `plt.ylabel(\"Y-axis Label\", label, fontsize, color)`\n",
    "- **Title →** `plt.title(\"Plot Title\", left, right, bottom, top)`\n",
    "- **Display plot →** `plt.show()`\n"
   ]
  },
  {
   "cell_type": "code",
   "execution_count": null,
   "metadata": {},
   "outputs": [],
   "source": [
    "team_23 = top_2023['TeamName']\n",
    "pct_23 = top_2023['WinPct']\n",
    "\n",
    "# Plot Bars\n",
    "\n",
    "\n",
    "plt.xlabel(\"Team\", fontsize=12)\n",
    "plt.ylabel(\"Win Percentage\", fontsize=12)\n",
    "plt.title(\"Season 2022-23\", fontsize=14)\n",
    "plt.show()"
   ]
  },
  {
   "cell_type": "markdown",
   "metadata": {},
   "source": [
    "## Multiple Bar Charts\n",
    "\n",
    "- **Multiple Plots →** `fig, ax = plt.subplots(nrows, ncols, figsize, sharex, sharey)`\n",
    "- **Figure title →** `fig.suptitle(\"Title\", fontsize, fontweight)`\n",
    "- **Bar plot →** `ax[i, j].bar(x, y, color, width, height, align, alpha)`  \n",
    "- **Subplot title →** `ax[i, j].set_title(\"Title\", fontsize, loc)`  \n",
    "- **X-axis label →** `ax[i, j].set_xlabel(\"Label\", fontsize, color)`  \n",
    "- **Y-axis label →** `ax[i, j].set_ylabel(\"Label\", fontsize, color)`  \n",
    "- **Axis limits →** `ax[i, j].set_xlim(min, max)`, `ax[i, j].set_ylim(min, max)`  \n",
    "- **Rotate tick labels →** `ax[i, j].tick_params(axis, rotation, labelsize, length, width, colors)`  \n",
    "\n",
    "*where `i` and `j` are the row and column indices, respectively, for an `nrows` x `ncols` subplot grid*\n",
    "\n",
    "*If there is only 1 column or row, one index will suffice*\n"
   ]
  },
  {
   "cell_type": "code",
   "execution_count": null,
   "metadata": {},
   "outputs": [],
   "source": [
    "team_24 = top_2024['TeamName']\n",
    "pct_24 = top_2024['WinPct']"
   ]
  },
  {
   "cell_type": "markdown",
   "metadata": {},
   "source": [
    "## Using Style Sheets\n",
    "\n",
    "[List of Style Sheets](https://matplotlib.org/stable/gallery/style_sheets/style_sheets_reference.html)"
   ]
  },
  {
   "cell_type": "code",
   "execution_count": null,
   "metadata": {},
   "outputs": [],
   "source": [
    "plt.style.available"
   ]
  }
 ],
 "metadata": {
  "kernelspec": {
   "display_name": "Python 3",
   "language": "python",
   "name": "python3"
  },
  "language_info": {
   "codemirror_mode": {
    "name": "ipython",
    "version": 3
   },
   "file_extension": ".py",
   "mimetype": "text/x-python",
   "name": "python",
   "nbconvert_exporter": "python",
   "pygments_lexer": "ipython3",
   "version": "3.13.0"
  }
 },
 "nbformat": 4,
 "nbformat_minor": 4
}
